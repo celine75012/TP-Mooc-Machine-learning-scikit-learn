{
  "nbformat": 4,
  "nbformat_minor": 0,
  "metadata": {
    "colab": {
      "provenance": []
    },
    "kernelspec": {
      "name": "python3",
      "display_name": "Python 3"
    },
    "language_info": {
      "name": "python"
    }
  },
  "cells": [
    {
      "cell_type": "markdown",
      "source": [
        "Détail sur le cadre du Cross Validation :\n",
        "Nous allons nous plonger sur les raisons pour lesquelles il est toujours nécessaire de disposer d'ensembles de formation et de test. Examinons d'abord les limites de l'utilisation d'un ensemble de données sans conserver aucun échantillon.\n",
        "Dans cet ensemble de données, l'objectif est de prédire la valeur médiane des maisons dans une zone de Californie. Les fonctionnalités collectées sont basées sur des informations immobilières et géographiques générales.\n",
        "\n",
        "La cible à prédire est une variable continue (et non plus discrète vue dans le module 1). Cette tâche est appelée régression.\n",
        "\n",
        "Pour cela, nous utiliserons un modèle prédictif spécifique à la régression et non à la classification."
      ],
      "metadata": {
        "id": "SueNDTeSZ6cD"
      }
    },
    {
      "cell_type": "code",
      "execution_count": 1,
      "metadata": {
        "id": "EtNKb-tpZkY5"
      },
      "outputs": [],
      "source": [
        "from sklearn.datasets import fetch_california_housing\n",
        "\n",
        "housing = fetch_california_housing(as_frame=True)\n",
        "data, target = housing.data, housing.target"
      ]
    },
    {
      "cell_type": "code",
      "source": [
        "#Affichage de la description et documentation de l'ensemble des données\n",
        "print(housing.DESCR)\n",
        "data.head()"
      ],
      "metadata": {
        "colab": {
          "base_uri": "https://localhost:8080/",
          "height": 1000
        },
        "id": "lphv2wAcaGEt",
        "outputId": "4f852d20-d17b-4fe3-f3dd-998197e09c4c"
      },
      "execution_count": 2,
      "outputs": [
        {
          "output_type": "stream",
          "name": "stdout",
          "text": [
            ".. _california_housing_dataset:\n",
            "\n",
            "California Housing dataset\n",
            "--------------------------\n",
            "\n",
            "**Data Set Characteristics:**\n",
            "\n",
            "    :Number of Instances: 20640\n",
            "\n",
            "    :Number of Attributes: 8 numeric, predictive attributes and the target\n",
            "\n",
            "    :Attribute Information:\n",
            "        - MedInc        median income in block group\n",
            "        - HouseAge      median house age in block group\n",
            "        - AveRooms      average number of rooms per household\n",
            "        - AveBedrms     average number of bedrooms per household\n",
            "        - Population    block group population\n",
            "        - AveOccup      average number of household members\n",
            "        - Latitude      block group latitude\n",
            "        - Longitude     block group longitude\n",
            "\n",
            "    :Missing Attribute Values: None\n",
            "\n",
            "This dataset was obtained from the StatLib repository.\n",
            "https://www.dcc.fc.up.pt/~ltorgo/Regression/cal_housing.html\n",
            "\n",
            "The target variable is the median house value for California districts,\n",
            "expressed in hundreds of thousands of dollars ($100,000).\n",
            "\n",
            "This dataset was derived from the 1990 U.S. census, using one row per census\n",
            "block group. A block group is the smallest geographical unit for which the U.S.\n",
            "Census Bureau publishes sample data (a block group typically has a population\n",
            "of 600 to 3,000 people).\n",
            "\n",
            "A household is a group of people residing within a home. Since the average\n",
            "number of rooms and bedrooms in this dataset are provided per household, these\n",
            "columns may take surprisingly large values for block groups with few households\n",
            "and many empty houses, such as vacation resorts.\n",
            "\n",
            "It can be downloaded/loaded using the\n",
            ":func:`sklearn.datasets.fetch_california_housing` function.\n",
            "\n",
            ".. topic:: References\n",
            "\n",
            "    - Pace, R. Kelley and Ronald Barry, Sparse Spatial Autoregressions,\n",
            "      Statistics and Probability Letters, 33 (1997) 291-297\n",
            "\n"
          ]
        },
        {
          "output_type": "execute_result",
          "data": {
            "text/plain": [
              "   MedInc  HouseAge  AveRooms  AveBedrms  Population  AveOccup  Latitude  \\\n",
              "0  8.3252      41.0  6.984127   1.023810       322.0  2.555556     37.88   \n",
              "1  8.3014      21.0  6.238137   0.971880      2401.0  2.109842     37.86   \n",
              "2  7.2574      52.0  8.288136   1.073446       496.0  2.802260     37.85   \n",
              "3  5.6431      52.0  5.817352   1.073059       558.0  2.547945     37.85   \n",
              "4  3.8462      52.0  6.281853   1.081081       565.0  2.181467     37.85   \n",
              "\n",
              "   Longitude  \n",
              "0    -122.23  \n",
              "1    -122.22  \n",
              "2    -122.24  \n",
              "3    -122.25  \n",
              "4    -122.25  "
            ],
            "text/html": [
              "\n",
              "  <div id=\"df-fada215c-04a8-468f-83bd-a8c23a595f6b\" class=\"colab-df-container\">\n",
              "    <div>\n",
              "<style scoped>\n",
              "    .dataframe tbody tr th:only-of-type {\n",
              "        vertical-align: middle;\n",
              "    }\n",
              "\n",
              "    .dataframe tbody tr th {\n",
              "        vertical-align: top;\n",
              "    }\n",
              "\n",
              "    .dataframe thead th {\n",
              "        text-align: right;\n",
              "    }\n",
              "</style>\n",
              "<table border=\"1\" class=\"dataframe\">\n",
              "  <thead>\n",
              "    <tr style=\"text-align: right;\">\n",
              "      <th></th>\n",
              "      <th>MedInc</th>\n",
              "      <th>HouseAge</th>\n",
              "      <th>AveRooms</th>\n",
              "      <th>AveBedrms</th>\n",
              "      <th>Population</th>\n",
              "      <th>AveOccup</th>\n",
              "      <th>Latitude</th>\n",
              "      <th>Longitude</th>\n",
              "    </tr>\n",
              "  </thead>\n",
              "  <tbody>\n",
              "    <tr>\n",
              "      <th>0</th>\n",
              "      <td>8.3252</td>\n",
              "      <td>41.0</td>\n",
              "      <td>6.984127</td>\n",
              "      <td>1.023810</td>\n",
              "      <td>322.0</td>\n",
              "      <td>2.555556</td>\n",
              "      <td>37.88</td>\n",
              "      <td>-122.23</td>\n",
              "    </tr>\n",
              "    <tr>\n",
              "      <th>1</th>\n",
              "      <td>8.3014</td>\n",
              "      <td>21.0</td>\n",
              "      <td>6.238137</td>\n",
              "      <td>0.971880</td>\n",
              "      <td>2401.0</td>\n",
              "      <td>2.109842</td>\n",
              "      <td>37.86</td>\n",
              "      <td>-122.22</td>\n",
              "    </tr>\n",
              "    <tr>\n",
              "      <th>2</th>\n",
              "      <td>7.2574</td>\n",
              "      <td>52.0</td>\n",
              "      <td>8.288136</td>\n",
              "      <td>1.073446</td>\n",
              "      <td>496.0</td>\n",
              "      <td>2.802260</td>\n",
              "      <td>37.85</td>\n",
              "      <td>-122.24</td>\n",
              "    </tr>\n",
              "    <tr>\n",
              "      <th>3</th>\n",
              "      <td>5.6431</td>\n",
              "      <td>52.0</td>\n",
              "      <td>5.817352</td>\n",
              "      <td>1.073059</td>\n",
              "      <td>558.0</td>\n",
              "      <td>2.547945</td>\n",
              "      <td>37.85</td>\n",
              "      <td>-122.25</td>\n",
              "    </tr>\n",
              "    <tr>\n",
              "      <th>4</th>\n",
              "      <td>3.8462</td>\n",
              "      <td>52.0</td>\n",
              "      <td>6.281853</td>\n",
              "      <td>1.081081</td>\n",
              "      <td>565.0</td>\n",
              "      <td>2.181467</td>\n",
              "      <td>37.85</td>\n",
              "      <td>-122.25</td>\n",
              "    </tr>\n",
              "  </tbody>\n",
              "</table>\n",
              "</div>\n",
              "    <div class=\"colab-df-buttons\">\n",
              "\n",
              "  <div class=\"colab-df-container\">\n",
              "    <button class=\"colab-df-convert\" onclick=\"convertToInteractive('df-fada215c-04a8-468f-83bd-a8c23a595f6b')\"\n",
              "            title=\"Convert this dataframe to an interactive table.\"\n",
              "            style=\"display:none;\">\n",
              "\n",
              "  <svg xmlns=\"http://www.w3.org/2000/svg\" height=\"24px\" viewBox=\"0 -960 960 960\">\n",
              "    <path d=\"M120-120v-720h720v720H120Zm60-500h600v-160H180v160Zm220 220h160v-160H400v160Zm0 220h160v-160H400v160ZM180-400h160v-160H180v160Zm440 0h160v-160H620v160ZM180-180h160v-160H180v160Zm440 0h160v-160H620v160Z\"/>\n",
              "  </svg>\n",
              "    </button>\n",
              "\n",
              "  <style>\n",
              "    .colab-df-container {\n",
              "      display:flex;\n",
              "      gap: 12px;\n",
              "    }\n",
              "\n",
              "    .colab-df-convert {\n",
              "      background-color: #E8F0FE;\n",
              "      border: none;\n",
              "      border-radius: 50%;\n",
              "      cursor: pointer;\n",
              "      display: none;\n",
              "      fill: #1967D2;\n",
              "      height: 32px;\n",
              "      padding: 0 0 0 0;\n",
              "      width: 32px;\n",
              "    }\n",
              "\n",
              "    .colab-df-convert:hover {\n",
              "      background-color: #E2EBFA;\n",
              "      box-shadow: 0px 1px 2px rgba(60, 64, 67, 0.3), 0px 1px 3px 1px rgba(60, 64, 67, 0.15);\n",
              "      fill: #174EA6;\n",
              "    }\n",
              "\n",
              "    .colab-df-buttons div {\n",
              "      margin-bottom: 4px;\n",
              "    }\n",
              "\n",
              "    [theme=dark] .colab-df-convert {\n",
              "      background-color: #3B4455;\n",
              "      fill: #D2E3FC;\n",
              "    }\n",
              "\n",
              "    [theme=dark] .colab-df-convert:hover {\n",
              "      background-color: #434B5C;\n",
              "      box-shadow: 0px 1px 3px 1px rgba(0, 0, 0, 0.15);\n",
              "      filter: drop-shadow(0px 1px 2px rgba(0, 0, 0, 0.3));\n",
              "      fill: #FFFFFF;\n",
              "    }\n",
              "  </style>\n",
              "\n",
              "    <script>\n",
              "      const buttonEl =\n",
              "        document.querySelector('#df-fada215c-04a8-468f-83bd-a8c23a595f6b button.colab-df-convert');\n",
              "      buttonEl.style.display =\n",
              "        google.colab.kernel.accessAllowed ? 'block' : 'none';\n",
              "\n",
              "      async function convertToInteractive(key) {\n",
              "        const element = document.querySelector('#df-fada215c-04a8-468f-83bd-a8c23a595f6b');\n",
              "        const dataTable =\n",
              "          await google.colab.kernel.invokeFunction('convertToInteractive',\n",
              "                                                    [key], {});\n",
              "        if (!dataTable) return;\n",
              "\n",
              "        const docLinkHtml = 'Like what you see? Visit the ' +\n",
              "          '<a target=\"_blank\" href=https://colab.research.google.com/notebooks/data_table.ipynb>data table notebook</a>'\n",
              "          + ' to learn more about interactive tables.';\n",
              "        element.innerHTML = '';\n",
              "        dataTable['output_type'] = 'display_data';\n",
              "        await google.colab.output.renderOutput(dataTable, element);\n",
              "        const docLink = document.createElement('div');\n",
              "        docLink.innerHTML = docLinkHtml;\n",
              "        element.appendChild(docLink);\n",
              "      }\n",
              "    </script>\n",
              "  </div>\n",
              "\n",
              "\n",
              "<div id=\"df-eec49e96-0e9a-42ae-9711-45e94607ae13\">\n",
              "  <button class=\"colab-df-quickchart\" onclick=\"quickchart('df-eec49e96-0e9a-42ae-9711-45e94607ae13')\"\n",
              "            title=\"Suggest charts\"\n",
              "            style=\"display:none;\">\n",
              "\n",
              "<svg xmlns=\"http://www.w3.org/2000/svg\" height=\"24px\"viewBox=\"0 0 24 24\"\n",
              "     width=\"24px\">\n",
              "    <g>\n",
              "        <path d=\"M19 3H5c-1.1 0-2 .9-2 2v14c0 1.1.9 2 2 2h14c1.1 0 2-.9 2-2V5c0-1.1-.9-2-2-2zM9 17H7v-7h2v7zm4 0h-2V7h2v10zm4 0h-2v-4h2v4z\"/>\n",
              "    </g>\n",
              "</svg>\n",
              "  </button>\n",
              "\n",
              "<style>\n",
              "  .colab-df-quickchart {\n",
              "      --bg-color: #E8F0FE;\n",
              "      --fill-color: #1967D2;\n",
              "      --hover-bg-color: #E2EBFA;\n",
              "      --hover-fill-color: #174EA6;\n",
              "      --disabled-fill-color: #AAA;\n",
              "      --disabled-bg-color: #DDD;\n",
              "  }\n",
              "\n",
              "  [theme=dark] .colab-df-quickchart {\n",
              "      --bg-color: #3B4455;\n",
              "      --fill-color: #D2E3FC;\n",
              "      --hover-bg-color: #434B5C;\n",
              "      --hover-fill-color: #FFFFFF;\n",
              "      --disabled-bg-color: #3B4455;\n",
              "      --disabled-fill-color: #666;\n",
              "  }\n",
              "\n",
              "  .colab-df-quickchart {\n",
              "    background-color: var(--bg-color);\n",
              "    border: none;\n",
              "    border-radius: 50%;\n",
              "    cursor: pointer;\n",
              "    display: none;\n",
              "    fill: var(--fill-color);\n",
              "    height: 32px;\n",
              "    padding: 0;\n",
              "    width: 32px;\n",
              "  }\n",
              "\n",
              "  .colab-df-quickchart:hover {\n",
              "    background-color: var(--hover-bg-color);\n",
              "    box-shadow: 0 1px 2px rgba(60, 64, 67, 0.3), 0 1px 3px 1px rgba(60, 64, 67, 0.15);\n",
              "    fill: var(--button-hover-fill-color);\n",
              "  }\n",
              "\n",
              "  .colab-df-quickchart-complete:disabled,\n",
              "  .colab-df-quickchart-complete:disabled:hover {\n",
              "    background-color: var(--disabled-bg-color);\n",
              "    fill: var(--disabled-fill-color);\n",
              "    box-shadow: none;\n",
              "  }\n",
              "\n",
              "  .colab-df-spinner {\n",
              "    border: 2px solid var(--fill-color);\n",
              "    border-color: transparent;\n",
              "    border-bottom-color: var(--fill-color);\n",
              "    animation:\n",
              "      spin 1s steps(1) infinite;\n",
              "  }\n",
              "\n",
              "  @keyframes spin {\n",
              "    0% {\n",
              "      border-color: transparent;\n",
              "      border-bottom-color: var(--fill-color);\n",
              "      border-left-color: var(--fill-color);\n",
              "    }\n",
              "    20% {\n",
              "      border-color: transparent;\n",
              "      border-left-color: var(--fill-color);\n",
              "      border-top-color: var(--fill-color);\n",
              "    }\n",
              "    30% {\n",
              "      border-color: transparent;\n",
              "      border-left-color: var(--fill-color);\n",
              "      border-top-color: var(--fill-color);\n",
              "      border-right-color: var(--fill-color);\n",
              "    }\n",
              "    40% {\n",
              "      border-color: transparent;\n",
              "      border-right-color: var(--fill-color);\n",
              "      border-top-color: var(--fill-color);\n",
              "    }\n",
              "    60% {\n",
              "      border-color: transparent;\n",
              "      border-right-color: var(--fill-color);\n",
              "    }\n",
              "    80% {\n",
              "      border-color: transparent;\n",
              "      border-right-color: var(--fill-color);\n",
              "      border-bottom-color: var(--fill-color);\n",
              "    }\n",
              "    90% {\n",
              "      border-color: transparent;\n",
              "      border-bottom-color: var(--fill-color);\n",
              "    }\n",
              "  }\n",
              "</style>\n",
              "\n",
              "  <script>\n",
              "    async function quickchart(key) {\n",
              "      const quickchartButtonEl =\n",
              "        document.querySelector('#' + key + ' button');\n",
              "      quickchartButtonEl.disabled = true;  // To prevent multiple clicks.\n",
              "      quickchartButtonEl.classList.add('colab-df-spinner');\n",
              "      try {\n",
              "        const charts = await google.colab.kernel.invokeFunction(\n",
              "            'suggestCharts', [key], {});\n",
              "      } catch (error) {\n",
              "        console.error('Error during call to suggestCharts:', error);\n",
              "      }\n",
              "      quickchartButtonEl.classList.remove('colab-df-spinner');\n",
              "      quickchartButtonEl.classList.add('colab-df-quickchart-complete');\n",
              "    }\n",
              "    (() => {\n",
              "      let quickchartButtonEl =\n",
              "        document.querySelector('#df-eec49e96-0e9a-42ae-9711-45e94607ae13 button');\n",
              "      quickchartButtonEl.style.display =\n",
              "        google.colab.kernel.accessAllowed ? 'block' : 'none';\n",
              "    })();\n",
              "  </script>\n",
              "</div>\n",
              "    </div>\n",
              "  </div>\n"
            ]
          },
          "metadata": {},
          "execution_count": 2
        }
      ]
    },
    {
      "cell_type": "code",
      "source": [
        "#Pour simplifier la visualisation future, transformons les prix de la fourchette de 100 (k$) à la fourchette de mille dollars (k$).\n",
        "target *= 100\n",
        "target.head()"
      ],
      "metadata": {
        "colab": {
          "base_uri": "https://localhost:8080/"
        },
        "id": "HHu-mmSZCYac",
        "outputId": "e062e2cc-e7e7-4fe3-c583-76b02fc76b69"
      },
      "execution_count": 3,
      "outputs": [
        {
          "output_type": "execute_result",
          "data": {
            "text/plain": [
              "0    452.6\n",
              "1    358.5\n",
              "2    352.1\n",
              "3    341.3\n",
              "4    342.2\n",
              "Name: MedHouseVal, dtype: float64"
            ]
          },
          "metadata": {},
          "execution_count": 3
        }
      ]
    },
    {
      "cell_type": "markdown",
      "source": [
        "\n",
        "**Erreur de formation vs erreur de test**"
      ],
      "metadata": {
        "id": "pHppxoOUCwAI"
      }
    },
    {
      "cell_type": "code",
      "source": [
        "from sklearn.tree import DecisionTreeRegressor\n",
        "\n",
        "regressor = DecisionTreeRegressor(random_state=0)\n",
        "regressor.fit(data, target)"
      ],
      "metadata": {
        "colab": {
          "base_uri": "https://localhost:8080/",
          "height": 74
        },
        "id": "tsG91umcCoSJ",
        "outputId": "ee37fba9-adbf-4401-da27-9678efb27f02"
      },
      "execution_count": 4,
      "outputs": [
        {
          "output_type": "execute_result",
          "data": {
            "text/plain": [
              "DecisionTreeRegressor(random_state=0)"
            ],
            "text/html": [
              "<style>#sk-container-id-1 {color: black;background-color: white;}#sk-container-id-1 pre{padding: 0;}#sk-container-id-1 div.sk-toggleable {background-color: white;}#sk-container-id-1 label.sk-toggleable__label {cursor: pointer;display: block;width: 100%;margin-bottom: 0;padding: 0.3em;box-sizing: border-box;text-align: center;}#sk-container-id-1 label.sk-toggleable__label-arrow:before {content: \"▸\";float: left;margin-right: 0.25em;color: #696969;}#sk-container-id-1 label.sk-toggleable__label-arrow:hover:before {color: black;}#sk-container-id-1 div.sk-estimator:hover label.sk-toggleable__label-arrow:before {color: black;}#sk-container-id-1 div.sk-toggleable__content {max-height: 0;max-width: 0;overflow: hidden;text-align: left;background-color: #f0f8ff;}#sk-container-id-1 div.sk-toggleable__content pre {margin: 0.2em;color: black;border-radius: 0.25em;background-color: #f0f8ff;}#sk-container-id-1 input.sk-toggleable__control:checked~div.sk-toggleable__content {max-height: 200px;max-width: 100%;overflow: auto;}#sk-container-id-1 input.sk-toggleable__control:checked~label.sk-toggleable__label-arrow:before {content: \"▾\";}#sk-container-id-1 div.sk-estimator input.sk-toggleable__control:checked~label.sk-toggleable__label {background-color: #d4ebff;}#sk-container-id-1 div.sk-label input.sk-toggleable__control:checked~label.sk-toggleable__label {background-color: #d4ebff;}#sk-container-id-1 input.sk-hidden--visually {border: 0;clip: rect(1px 1px 1px 1px);clip: rect(1px, 1px, 1px, 1px);height: 1px;margin: -1px;overflow: hidden;padding: 0;position: absolute;width: 1px;}#sk-container-id-1 div.sk-estimator {font-family: monospace;background-color: #f0f8ff;border: 1px dotted black;border-radius: 0.25em;box-sizing: border-box;margin-bottom: 0.5em;}#sk-container-id-1 div.sk-estimator:hover {background-color: #d4ebff;}#sk-container-id-1 div.sk-parallel-item::after {content: \"\";width: 100%;border-bottom: 1px solid gray;flex-grow: 1;}#sk-container-id-1 div.sk-label:hover label.sk-toggleable__label {background-color: #d4ebff;}#sk-container-id-1 div.sk-serial::before {content: \"\";position: absolute;border-left: 1px solid gray;box-sizing: border-box;top: 0;bottom: 0;left: 50%;z-index: 0;}#sk-container-id-1 div.sk-serial {display: flex;flex-direction: column;align-items: center;background-color: white;padding-right: 0.2em;padding-left: 0.2em;position: relative;}#sk-container-id-1 div.sk-item {position: relative;z-index: 1;}#sk-container-id-1 div.sk-parallel {display: flex;align-items: stretch;justify-content: center;background-color: white;position: relative;}#sk-container-id-1 div.sk-item::before, #sk-container-id-1 div.sk-parallel-item::before {content: \"\";position: absolute;border-left: 1px solid gray;box-sizing: border-box;top: 0;bottom: 0;left: 50%;z-index: -1;}#sk-container-id-1 div.sk-parallel-item {display: flex;flex-direction: column;z-index: 1;position: relative;background-color: white;}#sk-container-id-1 div.sk-parallel-item:first-child::after {align-self: flex-end;width: 50%;}#sk-container-id-1 div.sk-parallel-item:last-child::after {align-self: flex-start;width: 50%;}#sk-container-id-1 div.sk-parallel-item:only-child::after {width: 0;}#sk-container-id-1 div.sk-dashed-wrapped {border: 1px dashed gray;margin: 0 0.4em 0.5em 0.4em;box-sizing: border-box;padding-bottom: 0.4em;background-color: white;}#sk-container-id-1 div.sk-label label {font-family: monospace;font-weight: bold;display: inline-block;line-height: 1.2em;}#sk-container-id-1 div.sk-label-container {text-align: center;}#sk-container-id-1 div.sk-container {/* jupyter's `normalize.less` sets `[hidden] { display: none; }` but bootstrap.min.css set `[hidden] { display: none !important; }` so we also need the `!important` here to be able to override the default hidden behavior on the sphinx rendered scikit-learn.org. See: https://github.com/scikit-learn/scikit-learn/issues/21755 */display: inline-block !important;position: relative;}#sk-container-id-1 div.sk-text-repr-fallback {display: none;}</style><div id=\"sk-container-id-1\" class=\"sk-top-container\"><div class=\"sk-text-repr-fallback\"><pre>DecisionTreeRegressor(random_state=0)</pre><b>In a Jupyter environment, please rerun this cell to show the HTML representation or trust the notebook. <br />On GitHub, the HTML representation is unable to render, please try loading this page with nbviewer.org.</b></div><div class=\"sk-container\" hidden><div class=\"sk-item\"><div class=\"sk-estimator sk-toggleable\"><input class=\"sk-toggleable__control sk-hidden--visually\" id=\"sk-estimator-id-1\" type=\"checkbox\" checked><label for=\"sk-estimator-id-1\" class=\"sk-toggleable__label sk-toggleable__label-arrow\">DecisionTreeRegressor</label><div class=\"sk-toggleable__content\"><pre>DecisionTreeRegressor(random_state=0)</pre></div></div></div></div></div>"
            ]
          },
          "metadata": {},
          "execution_count": 4
        }
      ]
    },
    {
      "cell_type": "code",
      "source": [
        "from sklearn.metrics import mean_absolute_error\n",
        "\n",
        "target_predicted = regressor.predict(data)\n",
        "score = mean_absolute_error(target, target_predicted)\n",
        "print(f\"On average, our regressor makes an error of {score:.2f} k$\")\n",
        "#MAE donne l'erreur en K$."
      ],
      "metadata": {
        "colab": {
          "base_uri": "https://localhost:8080/"
        },
        "id": "nFi-h8tUC7v2",
        "outputId": "cc005d14-2dab-4cb4-f67e-1c4430f35496"
      },
      "execution_count": 5,
      "outputs": [
        {
          "output_type": "stream",
          "name": "stdout",
          "text": [
            "On average, our regressor makes an error of 0.00 k$\n"
          ]
        }
      ]
    },
    {
      "cell_type": "markdown",
      "source": [
        "La prédiction est un peu trop parfaite et cela laisse penser à du sur ajustement de notre modèle de prédiction. Cette erreur calculée ci-dessus est appelée erreur empirique ou erreur d’entraînement ou encore  erreur de généralisation ou « vraie » erreur de test."
      ],
      "metadata": {
        "id": "EcxuwSIzDb5o"
      }
    },
    {
      "cell_type": "markdown",
      "source": [
        "\n",
        "Ainsi, l’évaluation la plus élémentaire implique :\n",
        "\n",
        "-diviser notre ensemble de données en deux sous-ensembles : un ensemble de formation et un ensemble de tests ;\n",
        "-ajuster le modèle sur l'ensemble d'entraînement ;\n",
        "-estimer l'erreur de formation sur l'ensemble de formation ;"
      ],
      "metadata": {
        "id": "LzQd3EPZEFjw"
      }
    },
    {
      "cell_type": "code",
      "source": [
        "from sklearn.model_selection import train_test_split\n",
        "\n",
        "data_train, data_test, target_train, target_test = train_test_split(\n",
        "    data, target, random_state=0\n",
        ")\n",
        "regressor.fit(data_train, target_train)\n",
        "target_predicted = regressor.predict(data_train)\n",
        "score = mean_absolute_error(target_train, target_predicted)\n",
        "print(f\"The training error of our model is {score:.2f} k$\")"
      ],
      "metadata": {
        "colab": {
          "base_uri": "https://localhost:8080/"
        },
        "id": "vRIPjhV_C8Be",
        "outputId": "6839a3e1-fc6f-4858-f4c6-0bd7c4422b01"
      },
      "execution_count": 6,
      "outputs": [
        {
          "output_type": "stream",
          "name": "stdout",
          "text": [
            "The training error of our model is 0.00 k$\n"
          ]
        }
      ]
    },
    {
      "cell_type": "markdown",
      "source": [
        "Nous observons les mêmes phénomènes que dans l'expérience précédente : notre modèle a mémorisé l'ensemble d'entraînement. Cependant, nous calculons maintenant l’erreur de test."
      ],
      "metadata": {
        "id": "V4KyJOT1EZa-"
      }
    },
    {
      "cell_type": "code",
      "source": [
        "target_predicted = regressor.predict(data_test)\n",
        "score = mean_absolute_error(target_test, target_predicted)\n",
        "print(f\"The testing error of our model is {score:.2f} k$\")"
      ],
      "metadata": {
        "colab": {
          "base_uri": "https://localhost:8080/"
        },
        "id": "UnU3KwGREaGx",
        "outputId": "612251d2-a493-4281-dc1e-71945937d731"
      },
      "execution_count": 7,
      "outputs": [
        {
          "output_type": "stream",
          "name": "stdout",
          "text": [
            "The testing error of our model is 47.28 k$\n"
          ]
        }
      ]
    },
    {
      "cell_type": "markdown",
      "source": [
        "**Stabilité des estimations de validation croisée**"
      ],
      "metadata": {
        "id": "G29chqBuEqdF"
      }
    },
    {
      "cell_type": "markdown",
      "source": [
        "La validation croisée permet d'estimer la robustesse d'un modèle prédictif en répétant la procédure de fractionnement. Il donnera plusieurs erreurs de formation et de test et donc une estimation de la variabilité des performances de généralisation du modèle.\n",
        "\n",
        "Il existe différentes stratégies de validation croisée, pour l'instant nous allons nous concentrer sur celle appelée \"shuffle-split\". À chaque itération de cette stratégie, nous :\n",
        "\n",
        "mélanger aléatoirement l'ordre des échantillons d'une copie de l'ensemble de données complet ;\n",
        "diviser l'ensemble de données mélangées en un train et un ensemble de test ;\n",
        "former un nouveau modèle sur la rame ;\n",
        "évaluer l’erreur de test sur l’ensemble de test.\n",
        "Nous répétons cette procédure n_splits fois. Gardez à l'esprit que le coût de calcul augmente avec n_splits."
      ],
      "metadata": {
        "id": "3iPO5Gu-LJ-k"
      }
    },
    {
      "cell_type": "code",
      "source": [
        "from sklearn.model_selection import cross_validate\n",
        "from sklearn.model_selection import ShuffleSplit\n",
        "\n",
        "cv = ShuffleSplit(n_splits=40, test_size=0.3, random_state=0)\n",
        "cv_results = cross_validate(\n",
        "    regressor, data, target, cv=cv, scoring=\"neg_mean_absolute_error\"\n",
        ")\n",
        "import pandas as pd\n",
        "\n",
        "cv_results = pd.DataFrame(cv_results)\n",
        "cv_results.head()\n",
        "\n",
        "#Inversons la négation pour obtenir l'erreur réelle\n",
        "cv_results[\"test_error\"] = -cv_results[\"test_score\"]\n",
        "cv_results.head(10)\n",
        "len(cv_results)\n",
        "import matplotlib.pyplot as plt\n",
        "\n",
        "cv_results[\"test_error\"].plot.hist(bins=10, edgecolor=\"black\")\n",
        "plt.xlabel(\"Mean absolute error (k$)\")\n",
        "_ = plt.title(\"Test error distribution\")\n",
        "print(\n",
        "    \"The mean cross-validated testing error is: \"\n",
        "    f\"{cv_results['test_error'].mean():.2f} k$\"\n",
        ")\n",
        "print(\n",
        "    \"The standard deviation of the testing error is: \"\n",
        "    f\"{cv_results['test_error'].std():.2f} k$\"\n",
        ")\n",
        "#Distribution de la variable cible\n",
        "target.plot.hist(bins=20, edgecolor=\"black\")\n",
        "plt.xlabel(\"Median House Value (k$)\")\n",
        "_ = plt.title(\"Target distribution\")\n",
        "print(f\"The standard deviation of the target is: {target.std():.2f} k$\")"
      ],
      "metadata": {
        "colab": {
          "base_uri": "https://localhost:8080/",
          "height": 524
        },
        "id": "VFHPh710EsPL",
        "outputId": "f5783515-747b-4653-9521-88c6306cbb4e"
      },
      "execution_count": 8,
      "outputs": [
        {
          "output_type": "stream",
          "name": "stdout",
          "text": [
            "The mean cross-validated testing error is: 46.36 k$\n",
            "The standard deviation of the testing error is: 1.17 k$\n",
            "The standard deviation of the target is: 115.40 k$\n"
          ]
        },
        {
          "output_type": "display_data",
          "data": {
            "text/plain": [
              "<Figure size 640x480 with 1 Axes>"
            ],
            "image/png": "[encoded data removed]"
          },
          "metadata": {}
        }
      ]
    },
    {
      "cell_type": "markdown",
      "source": [
        "La variable cible va de près de 0 k$ jusqu'à 500 k$ et, avec un écart type autour de 115 k$.\n",
        "\n",
        "Nous remarquons que l'estimation moyenne de l'erreur de test obtenue par validation croisée est un peu plus petite que l'échelle naturelle de variation de la variable cible. De plus, l’écart type de l’estimation de validation croisée de l’erreur de test est encore plus petit.\n",
        "\n",
        "C’est un bon début, mais pas nécessairement suffisant pour décider si les performances de généralisation sont suffisamment bonnes pour rendre notre prédiction utile en pratique.\n",
        "\n",
        "Rappelons que notre modèle fait, en moyenne, une erreur de l'ordre de 47 k$. Avec ces informations et en regardant la distribution cible, une telle erreur pourrait être acceptable lors de la prévision de maisons d'une valeur de 500 k$. Cependant, ce serait un problème avec une maison d'une valeur de 50 k$. Ainsi, cela indique que notre métrique (Mean Absolute Error) n’est pas idéale.\n",
        "\n",
        "Nous pourrions plutôt choisir une métrique relative à la valeur cible à prédire : le pourcentage d’erreur absolu moyen aurait été un bien meilleur choix.\n",
        "\n",
        "Mais dans tous les cas, une erreur de 47 k$ peut être trop importante pour utiliser automatiquement notre modèle pour étiqueter les valeurs des maisons sans la supervision d'un expert."
      ],
      "metadata": {
        "id": "BP86iMiTM_RP"
      }
    },
    {
      "cell_type": "markdown",
      "source": [
        "**Plus de détails concernant cross_validate**"
      ],
      "metadata": {
        "id": "5Y_eqHbPNF4t"
      }
    },
    {
      "cell_type": "code",
      "source": [
        "cv_results = cross_validate(regressor, data, target, return_estimator=True)\n",
        "cv_results\n",
        "cv_results[\"estimator\"]"
      ],
      "metadata": {
        "colab": {
          "base_uri": "https://localhost:8080/"
        },
        "id": "AhSsXUxcNH0X",
        "outputId": "5f85b2ce-7b1e-4dd7-ccae-36bf56d92ec7"
      },
      "execution_count": 9,
      "outputs": [
        {
          "output_type": "execute_result",
          "data": {
            "text/plain": [
              "[DecisionTreeRegressor(random_state=0),\n",
              " DecisionTreeRegressor(random_state=0),\n",
              " DecisionTreeRegressor(random_state=0),\n",
              " DecisionTreeRegressor(random_state=0),\n",
              " DecisionTreeRegressor(random_state=0)]"
            ]
          },
          "metadata": {},
          "execution_count": 9
        }
      ]
    },
    {
      "cell_type": "markdown",
      "source": [
        "Dans le cas où vous n'êtes intéressé que par le résultat du test, scikit-learn propose une fonction cross_val_score. Cela revient à appeler la fonction cross_validate et à sélectionner uniquement le test_score"
      ],
      "metadata": {
        "id": "L0MzlfrQNY9_"
      }
    },
    {
      "cell_type": "code",
      "source": [
        "from sklearn.model_selection import cross_val_score\n",
        "\n",
        "scores = cross_val_score(regressor, data, target)\n",
        "scores"
      ],
      "metadata": {
        "colab": {
          "base_uri": "https://localhost:8080/"
        },
        "id": "nmm1c75hNaTb",
        "outputId": "d73847d8-fc99-4706-a4f9-7697f9d21ddb"
      },
      "execution_count": 10,
      "outputs": [
        {
          "output_type": "execute_result",
          "data": {
            "text/plain": [
              "array([0.26291527, 0.41947109, 0.44492564, 0.23357874, 0.40788361])"
            ]
          },
          "metadata": {},
          "execution_count": 10
        }
      ]
    },
    {
      "cell_type": "markdown",
      "source": [
        "OVERFIT- GENERALIZATION-UNDERFIT Comment les erreus de formation nous permettent de mettre en évidence une généralisation, une sur ou un sous ajustement de notre modèle"
      ],
      "metadata": {
        "id": "S9NLwocuWWM5"
      }
    },
    {
      "cell_type": "code",
      "source": [
        "from sklearn.datasets import fetch_california_housing\n",
        "\n",
        "housing = fetch_california_housing(as_frame=True)\n",
        "data, target = housing.data, housing.target\n",
        "target *= 100  # rescale the target in k$"
      ],
      "metadata": {
        "id": "cjClBRsVW54U"
      },
      "execution_count": 1,
      "outputs": []
    },
    {
      "cell_type": "code",
      "source": [
        "from sklearn.tree import DecisionTreeRegressor\n",
        "\n",
        "regressor = DecisionTreeRegressor()"
      ],
      "metadata": {
        "id": "jntkpmrNXApK"
      },
      "execution_count": 2,
      "outputs": []
    },
    {
      "cell_type": "code",
      "source": [
        "import pandas as pd\n",
        "from sklearn.model_selection import cross_validate, ShuffleSplit\n",
        "\n",
        "cv = ShuffleSplit(n_splits=30, test_size=0.2, random_state=0)\n",
        "cv_results = cross_validate(\n",
        "    regressor,\n",
        "    data,\n",
        "    target,\n",
        "    cv=cv,\n",
        "    scoring=\"neg_mean_absolute_error\",\n",
        "    return_train_score=True,\n",
        "    n_jobs=2,\n",
        ")\n",
        "cv_results = pd.DataFrame(cv_results)\n",
        "\n",
        "#La validation croisée a utilisé l’erreur absolue moyenne négative. Nous transformons l’erreur absolue moyenne négative en une erreur absolue moyenne positive.\n",
        "scores = pd.DataFrame()\n",
        "scores[[\"train error\", \"test error\"]] = -cv_results[\n",
        "    [\"train_score\", \"test_score\"]\n",
        "]\n",
        "import matplotlib.pyplot as plt\n",
        "\n",
        "scores.plot.hist(bins=50, edgecolor=\"black\")\n",
        "plt.xlabel(\"Mean absolute error (k$)\")\n",
        "_ = plt.title(\"Train and test errors distribution via cross-validation\")"
      ],
      "metadata": {
        "colab": {
          "base_uri": "https://localhost:8080/",
          "height": 472
        },
        "id": "ZR20FejEXCTj",
        "outputId": "dc642505-3e47-4dbc-a996-0e342af903ef"
      },
      "execution_count": 3,
      "outputs": [
        {
          "output_type": "display_data",
          "data": {
            "text/plain": [
              "<Figure size 640x480 with 1 Axes>"
            ],
            "image/png": "[encoded data removed]"
          },
          "metadata": {}
        }
      ]
    },
    {
      "cell_type": "markdown",
      "source": [
        "Ici, nous observons une petite erreur d'entraînement (en fait nulle), ce qui signifie que le modèle n'est pas sous-ajusté : il est suffisamment flexible pour capturer toutes les variations présentes dans l'ensemble d'entraînement.\n",
        "\n",
        "Cependant, l'erreur de test significativement plus importante nous indique que le modèle est sur-ajusté : le modèle a mémorisé de nombreuses variantes de l'ensemble d'apprentissage qui pourraient être considérées comme « bruyantes » car elles ne se généralisent pas pour nous aider à faire de bonnes prédictions sur l'ensemble de test."
      ],
      "metadata": {
        "id": "Y6vggfzCXnHI"
      }
    },
    {
      "cell_type": "markdown",
      "source": [
        "**VALIDATION CURVE **"
      ],
      "metadata": {
        "id": "ERo9Kv6zXnWg"
      }
    },
    {
      "cell_type": "markdown",
      "source": [],
      "metadata": {
        "id": "l6wpv0l-ZTOA"
      }
    },
    {
      "cell_type": "code",
      "source": [
        "import numpy as np\n",
        "import matplotlib.pyplot as plt\n",
        "from sklearn.model_selection import validation_curve\n",
        "from sklearn.tree import DecisionTreeRegressor\n",
        "\n",
        "# Créez votre modèle (remplacez DecisionTreeRegressor par le modèle que vous utilisez)\n",
        "regressor = DecisionTreeRegressor()\n",
        "\n",
        "# Paramètre à valider (par exemple, max_depth pour un arbre de décision)\n",
        "param_name = \"max_depth\"\n",
        "param_range = np.array([1, 5, 10, 15, 20, 25])\n",
        "\n",
        "# Utilisez validation_curve pour obtenir les scores d'entraînement et de validation\n",
        "train_scores, valid_scores = validation_curve(\n",
        "    regressor,\n",
        "    data,\n",
        "    target,\n",
        "    param_name=param_name,\n",
        "    param_range=param_range,\n",
        "    cv=cv,\n",
        "    scoring=\"neg_mean_absolute_error\",\n",
        "    n_jobs=2,\n",
        ")\n",
        "\n",
        "# Calculez les moyennes et les écarts types des scores\n",
        "train_mean = -np.mean(train_scores, axis=1)\n",
        "train_std = np.std(train_scores, axis=1)\n",
        "valid_mean = -np.mean(valid_scores, axis=1)\n",
        "valid_std = np.std(valid_scores, axis=1)\n",
        "\n",
        "# Affichez la courbe de validation\n",
        "plt.figure(figsize=(10, 6))\n",
        "plt.plot(param_range, train_mean, label=\"Training score\", color=\"blue\", marker=\"o\")\n",
        "plt.fill_between(\n",
        "    param_range,\n",
        "    train_mean - train_std,\n",
        "    train_mean + train_std,\n",
        "    alpha=0.15,\n",
        "    color=\"blue\",\n",
        ")\n",
        "plt.plot(param_range, valid_mean, label=\"Validation score\", color=\"red\", marker=\"o\")\n",
        "plt.fill_between(\n",
        "    param_range,\n",
        "    valid_mean - valid_std,\n",
        "    valid_mean + valid_std,\n",
        "    alpha=0.15,\n",
        "    color=\"red\",\n",
        ")\n",
        "\n",
        "plt.title(\"Validation Curve\")\n",
        "plt.xlabel(param_name)\n",
        "plt.ylabel(\"Mean Absolute Error (k$)\")\n",
        "plt.legend(loc=\"best\")\n",
        "plt.show()"
      ],
      "metadata": {
        "colab": {
          "base_uri": "https://localhost:8080/",
          "height": 564
        },
        "id": "GERq1Uh7XvMr",
        "outputId": "b4fa4d25-1788-4b51-ef31-9ced1cc3f45c"
      },
      "execution_count": 7,
      "outputs": [
        {
          "output_type": "display_data",
          "data": {
            "text/plain": [
              "<Figure size 1000x600 with 1 Axes>"
            ],
            "image/png": "[encoded data removed]"
          },
          "metadata": {}
        }
      ]
    },
    {
      "cell_type": "markdown",
      "source": [
        "La courbe de validation peut être divisée en trois zones :\n",
        "\n",
        "Pour max_degree < 10, l'arbre de décision est sous-adapté. L'erreur de formation et donc l'erreur de test sont toutes deux élevées. Le modèle est trop contraint et ne peut pas capturer une grande partie de la variabilité de la variable cible.\n",
        "\n",
        "La région autour de max_degree = 10 correspond au paramètre pour lequel l'arbre de décision généralise le mieux. Il est suffisamment flexible pour capturer une fraction de la variabilité de la cible qui se généralise, sans mémoriser tout le bruit de la cible.\n",
        "\n",
        "Pour max_degree > 10, l’arbre de décision est surajusté. L'erreur de formation devient très faible, tandis que l'erreur de test augmente. Dans cette région, les modèles créent des décisions spécifiquement pour les échantillons bruyants, ce qui nuit à leur capacité à généraliser pour tester les données.\n",
        "\n",
        "Notez que pour max_degree = 10, le modèle surajuste un peu car il existe un écart entre l'erreur d'entraînement et l'erreur de test. Il peut également potentiellement être légèrement sous-ajusté en même temps, car l'erreur d'entraînement est encore loin d'être nulle (plus de 30 k$), ce qui signifie que le modèle pourrait encore être trop contraint pour modéliser des parties intéressantes des données. Cependant, l’erreur de test est minime, et c’est ce qui compte vraiment. C’est le meilleur compromis que l’on puisse atteindre en réglant simplement ce paramètre.\n",
        "\n",
        "Sachez que regarder les erreurs moyennes est assez limitatif. Il faut également regarder l'écart type pour évaluer la dispersion du score."
      ],
      "metadata": {
        "id": "gO5x03vfZxp4"
      }
    },
    {
      "cell_type": "markdown",
      "source": [
        "**Effet de la taille de l'échantillon en validation croisée**"
      ],
      "metadata": {
        "id": "zMvLBoGCH3Q3"
      }
    },
    {
      "cell_type": "code",
      "source": [
        "from sklearn.datasets import fetch_california_housing\n",
        "\n",
        "housing = fetch_california_housing(as_frame=True)\n",
        "data, target = housing.data, housing.target\n",
        "target *= 100  # rescale the target in k$"
      ],
      "metadata": {
        "id": "PZ2dsvG0IIdn"
      },
      "execution_count": 1,
      "outputs": []
    },
    {
      "cell_type": "code",
      "source": [
        "from sklearn.tree import DecisionTreeRegressor\n",
        "\n",
        "regressor = DecisionTreeRegressor()"
      ],
      "metadata": {
        "id": "OefCtm4iIOTb"
      },
      "execution_count": 2,
      "outputs": []
    },
    {
      "cell_type": "markdown",
      "source": [
        "Courbe d'apprentissage lorsque l'on fait varier le nombre d'échantillon de formation"
      ],
      "metadata": {
        "id": "JhbQN_w3IhHe"
      }
    },
    {
      "cell_type": "code",
      "source": [
        "import numpy as np\n",
        "\n",
        "train_sizes = np.linspace(0.1, 1.0, num=5, endpoint=True)\n",
        "train_sizes\n",
        "\n",
        "from sklearn.model_selection import ShuffleSplit\n",
        "\n",
        "cv = ShuffleSplit(n_splits=30, test_size=0.2)"
      ],
      "metadata": {
        "id": "W23Oqh2-InLX"
      },
      "execution_count": 3,
      "outputs": []
    },
    {
      "cell_type": "code",
      "source": [
        "from sklearn.model_selection import LearningCurveDisplay\n",
        "\n",
        "display = LearningCurveDisplay.from_estimator(\n",
        "    regressor,\n",
        "    data,\n",
        "    target,\n",
        "    train_sizes=train_sizes,\n",
        "    cv=cv,\n",
        "    score_type=\"both\",  # both train and test errors\n",
        "    scoring=\"neg_mean_absolute_error\",\n",
        "    negate_score=True,  # to use when metric starts with \"neg_\"\n",
        "    score_name=\"Mean absolute error (k$)\",\n",
        "    std_display_style=\"errorbar\",\n",
        "    n_jobs=2,\n",
        ")\n",
        "_ = display.ax_.set(xscale=\"log\", title=\"Learning curve for decision tree\")"
      ],
      "metadata": {
        "colab": {
          "base_uri": "https://localhost:8080/",
          "height": 476
        },
        "id": "MTr-HqTkIytC",
        "outputId": "96af9e29-f593-468d-a398-6b975e9c5623"
      },
      "execution_count": 4,
      "outputs": [
        {
          "output_type": "display_data",
          "data": {
            "text/plain": [
              "<Figure size 640x480 with 1 Axes>"
            ],
            "image/png": "[encoded data removed]"
          },
          "metadata": {}
        }
      ]
    },
    {
      "cell_type": "markdown",
      "source": [
        "En regardant uniquement l'erreur d'entraînement, nous voyons que nous obtenons une erreur de 0 k$. Cela signifie que le modèle formé (c'est-à-dire l'arbre de décision) surajuste clairement les données de formation.\n",
        "\n",
        "En regardant uniquement l’erreur de test, nous observons que plus d’échantillons sont ajoutés à l’ensemble d’apprentissage, plus l’erreur de test devient faible. En outre, nous recherchons le plateau de l'erreur de test pour lequel il n'y a plus d'avantage à ajouter des échantillons ou évaluons le gain potentiel de l'ajout de plus d'échantillons dans l'ensemble d'apprentissage.\n",
        "\n",
        "Si nous atteignons un plateau et que l'ajout de nouveaux échantillons dans l'ensemble d'apprentissage ne réduit pas l'erreur de test, nous aurions peut-être atteint le taux d'erreur de Bayes en utilisant le modèle disponible. L’utilisation d’un modèle plus complexe pourrait être la seule possibilité de réduire davantage l’erreur de test."
      ],
      "metadata": {
        "id": "9WAgO48FJDq9"
      }
    }
  ]
}
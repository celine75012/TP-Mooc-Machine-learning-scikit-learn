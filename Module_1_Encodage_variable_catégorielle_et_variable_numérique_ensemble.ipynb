{
  "nbformat": 4,
  "nbformat_minor": 0,
  "metadata": {
    "colab": {
      "provenance": []
    },
    "kernelspec": {
      "name": "python3",
      "display_name": "Python 3"
    },
    "language_info": {
      "name": "python"
    }
  },
  "cells": [
    {
      "cell_type": "code",
      "execution_count": null,
      "metadata": {
        "colab": {
          "base_uri": "https://localhost:8080/"
        },
        "id": "SCeHJPlbUGBL",
        "outputId": "8643dd01-eff7-4306-df55-f1a267118478"
      },
      "outputs": [
        {
          "output_type": "stream",
          "name": "stdout",
          "text": [
            "    age     workclass    fnlwgt        education  education-num  \\\n",
            "0  25.0    b'Private'  226802.0          b'11th'            7.0   \n",
            "1  38.0    b'Private'   89814.0       b'HS-grad'            9.0   \n",
            "2  28.0  b'Local-gov'  336951.0    b'Assoc-acdm'           12.0   \n",
            "3  44.0    b'Private'  160323.0  b'Some-college'           10.0   \n",
            "4  18.0          b'?'  103497.0  b'Some-college'           10.0   \n",
            "\n",
            "          marital-status            occupation  relationship      race  \\\n",
            "0       b'Never-married'  b'Machine-op-inspct'  b'Own-child'  b'Black'   \n",
            "1  b'Married-civ-spouse'    b'Farming-fishing'    b'Husband'  b'White'   \n",
            "2  b'Married-civ-spouse'    b'Protective-serv'    b'Husband'  b'White'   \n",
            "3  b'Married-civ-spouse'  b'Machine-op-inspct'    b'Husband'  b'Black'   \n",
            "4       b'Never-married'                  b'?'  b'Own-child'  b'White'   \n",
            "\n",
            "         sex  capital-gain  capital-loss  hours-per-week    native-country  \\\n",
            "0    b'Male'           0.0           0.0            40.0  b'United-States'   \n",
            "1    b'Male'           0.0           0.0            50.0  b'United-States'   \n",
            "2    b'Male'           0.0           0.0            40.0  b'United-States'   \n",
            "3    b'Male'        7688.0           0.0            40.0  b'United-States'   \n",
            "4  b'Female'           0.0           0.0            30.0  b'United-States'   \n",
            "\n",
            "      class  \n",
            "0  b'<=50K'  \n",
            "1  b'<=50K'  \n",
            "2   b'>50K'  \n",
            "3   b'>50K'  \n",
            "4  b'<=50K'  \n"
          ]
        }
      ],
      "source": [
        "from scipy.io import arff\n",
        "import pandas as pd\n",
        "\n",
        "# Chargement dufichier ARFF\n",
        "data = arff.loadarff('phpMawTba.arff')\n",
        "\n",
        "# Conversion des données en DataFrame pandas\n",
        "adult_census = pd.DataFrame(data[0])\n",
        "\n",
        "# Affichage du DataFrame\n",
        "print(adult_census.head())"
      ]
    },
    {
      "cell_type": "code",
      "source": [
        "target_name = \"class\"\n",
        "target = adult_census[target_name]\n",
        "\n",
        "# méthode replace pour convertir les étiquettes\n",
        "target.replace({b'<=50K': 0, b'>50K': 1}, inplace=True)\n",
        "print(target.head())\n",
        "\n",
        "data = adult_census.drop(columns=[target_name])"
      ],
      "metadata": {
        "colab": {
          "base_uri": "https://localhost:8080/"
        },
        "id": "bo39ci04UhGb",
        "outputId": "1ceca579-e9b1-4d98-e9fb-08bc746e1269"
      },
      "execution_count": null,
      "outputs": [
        {
          "output_type": "stream",
          "name": "stdout",
          "text": [
            "0    0\n",
            "1    0\n",
            "2    1\n",
            "3    1\n",
            "4    0\n",
            "Name: class, dtype: int64\n"
          ]
        }
      ]
    },
    {
      "cell_type": "code",
      "source": [
        "#Séparation des variables catégorielles et des variables numériques :\n",
        "from sklearn.compose import make_column_selector as selector\n",
        "\n",
        "numerical_columns_selector = selector(dtype_exclude=object)\n",
        "categorical_columns_selector = selector(dtype_include=object)\n",
        "\n",
        "numerical_columns = numerical_columns_selector(data)\n",
        "categorical_columns = categorical_columns_selector(data)"
      ],
      "metadata": {
        "id": "R2_huyNaUk36"
      },
      "execution_count": null,
      "outputs": []
    },
    {
      "cell_type": "markdown",
      "source": [
        "Nous définissons d'abord les colonnes en fonction de leur type de données :\n",
        "\n",
        "Le codage à chaud est appliqué aux colonnes catégorielles. De plus, nous utilisons handle_unknown=\"ignore\" pour résoudre les problèmes potentiels dus aux catégories rares.\n",
        "caractéristiques numériques de mise à l'échelle numérique qui seront standardisées.\n",
        "Maintenant, nous créons notre ColumnTransfomer en spécifiant trois valeurs : le nom du préprocesseur, le transformateur et les colonnes. Tout d’abord, créons les préprocesseurs pour les parties numériques et catégorielles."
      ],
      "metadata": {
        "id": "MuPcvQcrVdLw"
      }
    },
    {
      "cell_type": "code",
      "source": [
        "from sklearn.preprocessing import OneHotEncoder, StandardScaler\n",
        "\n",
        "categorical_preprocessor = OneHotEncoder(handle_unknown=\"ignore\")\n",
        "numerical_preprocessor = StandardScaler()"
      ],
      "metadata": {
        "id": "zZVIYXpxVEdr"
      },
      "execution_count": null,
      "outputs": []
    },
    {
      "cell_type": "markdown",
      "source": [
        "Maintenant, nous créons le transformateur et associons chacun de ces préprocesseurs à leurs colonnes respectives."
      ],
      "metadata": {
        "id": "8dK6pwC8VjLA"
      }
    },
    {
      "cell_type": "code",
      "source": [
        "from sklearn.compose import ColumnTransformer\n",
        "\n",
        "preprocessor = ColumnTransformer(\n",
        "    [\n",
        "        (\"one-hot-encoder\", categorical_preprocessor, categorical_columns),\n",
        "        (\"standard_scaler\", numerical_preprocessor, numerical_columns),\n",
        "    ]\n",
        ")"
      ],
      "metadata": {
        "id": "MqfnRVuCViRG"
      },
      "execution_count": null,
      "outputs": []
    },
    {
      "cell_type": "code",
      "source": [
        "#Column Transformer peut être combiné avec un classificateur dans une Pipeline :\n",
        "from sklearn.linear_model import LogisticRegression\n",
        "from sklearn.pipeline import make_pipeline\n",
        "\n",
        "model = make_pipeline(preprocessor, LogisticRegression(max_iter=500))\n",
        "model"
      ],
      "metadata": {
        "colab": {
          "base_uri": "https://localhost:8080/",
          "height": 191
        },
        "id": "yQYyKAafVxuJ",
        "outputId": "8053c748-7e33-43bd-95c4-239d88db27e7"
      },
      "execution_count": null,
      "outputs": [
        {
          "output_type": "execute_result",
          "data": {
            "text/plain": [
              "Pipeline(steps=[('columntransformer',\n",
              "                 ColumnTransformer(transformers=[('one-hot-encoder',\n",
              "                                                  OneHotEncoder(handle_unknown='ignore'),\n",
              "                                                  ['workclass', 'education',\n",
              "                                                   'marital-status',\n",
              "                                                   'occupation', 'relationship',\n",
              "                                                   'race', 'sex',\n",
              "                                                   'native-country']),\n",
              "                                                 ('standard_scaler',\n",
              "                                                  StandardScaler(),\n",
              "                                                  ['age', 'fnlwgt',\n",
              "                                                   'education-num',\n",
              "                                                   'capital-gain',\n",
              "                                                   'capital-loss',\n",
              "                                                   'hours-per-week'])])),\n",
              "                ('logisticregression', LogisticRegression(max_iter=500))])"
            ],
            "text/html": [
              "<style>#sk-container-id-2 {color: black;background-color: white;}#sk-container-id-2 pre{padding: 0;}#sk-container-id-2 div.sk-toggleable {background-color: white;}#sk-container-id-2 label.sk-toggleable__label {cursor: pointer;display: block;width: 100%;margin-bottom: 0;padding: 0.3em;box-sizing: border-box;text-align: center;}#sk-container-id-2 label.sk-toggleable__label-arrow:before {content: \"▸\";float: left;margin-right: 0.25em;color: #696969;}#sk-container-id-2 label.sk-toggleable__label-arrow:hover:before {color: black;}#sk-container-id-2 div.sk-estimator:hover label.sk-toggleable__label-arrow:before {color: black;}#sk-container-id-2 div.sk-toggleable__content {max-height: 0;max-width: 0;overflow: hidden;text-align: left;background-color: #f0f8ff;}#sk-container-id-2 div.sk-toggleable__content pre {margin: 0.2em;color: black;border-radius: 0.25em;background-color: #f0f8ff;}#sk-container-id-2 input.sk-toggleable__control:checked~div.sk-toggleable__content {max-height: 200px;max-width: 100%;overflow: auto;}#sk-container-id-2 input.sk-toggleable__control:checked~label.sk-toggleable__label-arrow:before {content: \"▾\";}#sk-container-id-2 div.sk-estimator input.sk-toggleable__control:checked~label.sk-toggleable__label {background-color: #d4ebff;}#sk-container-id-2 div.sk-label input.sk-toggleable__control:checked~label.sk-toggleable__label {background-color: #d4ebff;}#sk-container-id-2 input.sk-hidden--visually {border: 0;clip: rect(1px 1px 1px 1px);clip: rect(1px, 1px, 1px, 1px);height: 1px;margin: -1px;overflow: hidden;padding: 0;position: absolute;width: 1px;}#sk-container-id-2 div.sk-estimator {font-family: monospace;background-color: #f0f8ff;border: 1px dotted black;border-radius: 0.25em;box-sizing: border-box;margin-bottom: 0.5em;}#sk-container-id-2 div.sk-estimator:hover {background-color: #d4ebff;}#sk-container-id-2 div.sk-parallel-item::after {content: \"\";width: 100%;border-bottom: 1px solid gray;flex-grow: 1;}#sk-container-id-2 div.sk-label:hover label.sk-toggleable__label {background-color: #d4ebff;}#sk-container-id-2 div.sk-serial::before {content: \"\";position: absolute;border-left: 1px solid gray;box-sizing: border-box;top: 0;bottom: 0;left: 50%;z-index: 0;}#sk-container-id-2 div.sk-serial {display: flex;flex-direction: column;align-items: center;background-color: white;padding-right: 0.2em;padding-left: 0.2em;position: relative;}#sk-container-id-2 div.sk-item {position: relative;z-index: 1;}#sk-container-id-2 div.sk-parallel {display: flex;align-items: stretch;justify-content: center;background-color: white;position: relative;}#sk-container-id-2 div.sk-item::before, #sk-container-id-2 div.sk-parallel-item::before {content: \"\";position: absolute;border-left: 1px solid gray;box-sizing: border-box;top: 0;bottom: 0;left: 50%;z-index: -1;}#sk-container-id-2 div.sk-parallel-item {display: flex;flex-direction: column;z-index: 1;position: relative;background-color: white;}#sk-container-id-2 div.sk-parallel-item:first-child::after {align-self: flex-end;width: 50%;}#sk-container-id-2 div.sk-parallel-item:last-child::after {align-self: flex-start;width: 50%;}#sk-container-id-2 div.sk-parallel-item:only-child::after {width: 0;}#sk-container-id-2 div.sk-dashed-wrapped {border: 1px dashed gray;margin: 0 0.4em 0.5em 0.4em;box-sizing: border-box;padding-bottom: 0.4em;background-color: white;}#sk-container-id-2 div.sk-label label {font-family: monospace;font-weight: bold;display: inline-block;line-height: 1.2em;}#sk-container-id-2 div.sk-label-container {text-align: center;}#sk-container-id-2 div.sk-container {/* jupyter's `normalize.less` sets `[hidden] { display: none; }` but bootstrap.min.css set `[hidden] { display: none !important; }` so we also need the `!important` here to be able to override the default hidden behavior on the sphinx rendered scikit-learn.org. See: https://github.com/scikit-learn/scikit-learn/issues/21755 */display: inline-block !important;position: relative;}#sk-container-id-2 div.sk-text-repr-fallback {display: none;}</style><div id=\"sk-container-id-2\" class=\"sk-top-container\"><div class=\"sk-text-repr-fallback\"><pre>Pipeline(steps=[(&#x27;columntransformer&#x27;,\n",
              "                 ColumnTransformer(transformers=[(&#x27;one-hot-encoder&#x27;,\n",
              "                                                  OneHotEncoder(handle_unknown=&#x27;ignore&#x27;),\n",
              "                                                  [&#x27;workclass&#x27;, &#x27;education&#x27;,\n",
              "                                                   &#x27;marital-status&#x27;,\n",
              "                                                   &#x27;occupation&#x27;, &#x27;relationship&#x27;,\n",
              "                                                   &#x27;race&#x27;, &#x27;sex&#x27;,\n",
              "                                                   &#x27;native-country&#x27;]),\n",
              "                                                 (&#x27;standard_scaler&#x27;,\n",
              "                                                  StandardScaler(),\n",
              "                                                  [&#x27;age&#x27;, &#x27;fnlwgt&#x27;,\n",
              "                                                   &#x27;education-num&#x27;,\n",
              "                                                   &#x27;capital-gain&#x27;,\n",
              "                                                   &#x27;capital-loss&#x27;,\n",
              "                                                   &#x27;hours-per-week&#x27;])])),\n",
              "                (&#x27;logisticregression&#x27;, LogisticRegression(max_iter=500))])</pre><b>In a Jupyter environment, please rerun this cell to show the HTML representation or trust the notebook. <br />On GitHub, the HTML representation is unable to render, please try loading this page with nbviewer.org.</b></div><div class=\"sk-container\" hidden><div class=\"sk-item sk-dashed-wrapped\"><div class=\"sk-label-container\"><div class=\"sk-label sk-toggleable\"><input class=\"sk-toggleable__control sk-hidden--visually\" id=\"sk-estimator-id-8\" type=\"checkbox\" ><label for=\"sk-estimator-id-8\" class=\"sk-toggleable__label sk-toggleable__label-arrow\">Pipeline</label><div class=\"sk-toggleable__content\"><pre>Pipeline(steps=[(&#x27;columntransformer&#x27;,\n",
              "                 ColumnTransformer(transformers=[(&#x27;one-hot-encoder&#x27;,\n",
              "                                                  OneHotEncoder(handle_unknown=&#x27;ignore&#x27;),\n",
              "                                                  [&#x27;workclass&#x27;, &#x27;education&#x27;,\n",
              "                                                   &#x27;marital-status&#x27;,\n",
              "                                                   &#x27;occupation&#x27;, &#x27;relationship&#x27;,\n",
              "                                                   &#x27;race&#x27;, &#x27;sex&#x27;,\n",
              "                                                   &#x27;native-country&#x27;]),\n",
              "                                                 (&#x27;standard_scaler&#x27;,\n",
              "                                                  StandardScaler(),\n",
              "                                                  [&#x27;age&#x27;, &#x27;fnlwgt&#x27;,\n",
              "                                                   &#x27;education-num&#x27;,\n",
              "                                                   &#x27;capital-gain&#x27;,\n",
              "                                                   &#x27;capital-loss&#x27;,\n",
              "                                                   &#x27;hours-per-week&#x27;])])),\n",
              "                (&#x27;logisticregression&#x27;, LogisticRegression(max_iter=500))])</pre></div></div></div><div class=\"sk-serial\"><div class=\"sk-item sk-dashed-wrapped\"><div class=\"sk-label-container\"><div class=\"sk-label sk-toggleable\"><input class=\"sk-toggleable__control sk-hidden--visually\" id=\"sk-estimator-id-9\" type=\"checkbox\" ><label for=\"sk-estimator-id-9\" class=\"sk-toggleable__label sk-toggleable__label-arrow\">columntransformer: ColumnTransformer</label><div class=\"sk-toggleable__content\"><pre>ColumnTransformer(transformers=[(&#x27;one-hot-encoder&#x27;,\n",
              "                                 OneHotEncoder(handle_unknown=&#x27;ignore&#x27;),\n",
              "                                 [&#x27;workclass&#x27;, &#x27;education&#x27;, &#x27;marital-status&#x27;,\n",
              "                                  &#x27;occupation&#x27;, &#x27;relationship&#x27;, &#x27;race&#x27;, &#x27;sex&#x27;,\n",
              "                                  &#x27;native-country&#x27;]),\n",
              "                                (&#x27;standard_scaler&#x27;, StandardScaler(),\n",
              "                                 [&#x27;age&#x27;, &#x27;fnlwgt&#x27;, &#x27;education-num&#x27;,\n",
              "                                  &#x27;capital-gain&#x27;, &#x27;capital-loss&#x27;,\n",
              "                                  &#x27;hours-per-week&#x27;])])</pre></div></div></div><div class=\"sk-parallel\"><div class=\"sk-parallel-item\"><div class=\"sk-item\"><div class=\"sk-label-container\"><div class=\"sk-label sk-toggleable\"><input class=\"sk-toggleable__control sk-hidden--visually\" id=\"sk-estimator-id-10\" type=\"checkbox\" ><label for=\"sk-estimator-id-10\" class=\"sk-toggleable__label sk-toggleable__label-arrow\">one-hot-encoder</label><div class=\"sk-toggleable__content\"><pre>[&#x27;workclass&#x27;, &#x27;education&#x27;, &#x27;marital-status&#x27;, &#x27;occupation&#x27;, &#x27;relationship&#x27;, &#x27;race&#x27;, &#x27;sex&#x27;, &#x27;native-country&#x27;]</pre></div></div></div><div class=\"sk-serial\"><div class=\"sk-item\"><div class=\"sk-estimator sk-toggleable\"><input class=\"sk-toggleable__control sk-hidden--visually\" id=\"sk-estimator-id-11\" type=\"checkbox\" ><label for=\"sk-estimator-id-11\" class=\"sk-toggleable__label sk-toggleable__label-arrow\">OneHotEncoder</label><div class=\"sk-toggleable__content\"><pre>OneHotEncoder(handle_unknown=&#x27;ignore&#x27;)</pre></div></div></div></div></div></div><div class=\"sk-parallel-item\"><div class=\"sk-item\"><div class=\"sk-label-container\"><div class=\"sk-label sk-toggleable\"><input class=\"sk-toggleable__control sk-hidden--visually\" id=\"sk-estimator-id-12\" type=\"checkbox\" ><label for=\"sk-estimator-id-12\" class=\"sk-toggleable__label sk-toggleable__label-arrow\">standard_scaler</label><div class=\"sk-toggleable__content\"><pre>[&#x27;age&#x27;, &#x27;fnlwgt&#x27;, &#x27;education-num&#x27;, &#x27;capital-gain&#x27;, &#x27;capital-loss&#x27;, &#x27;hours-per-week&#x27;]</pre></div></div></div><div class=\"sk-serial\"><div class=\"sk-item\"><div class=\"sk-estimator sk-toggleable\"><input class=\"sk-toggleable__control sk-hidden--visually\" id=\"sk-estimator-id-13\" type=\"checkbox\" ><label for=\"sk-estimator-id-13\" class=\"sk-toggleable__label sk-toggleable__label-arrow\">StandardScaler</label><div class=\"sk-toggleable__content\"><pre>StandardScaler()</pre></div></div></div></div></div></div></div></div><div class=\"sk-item\"><div class=\"sk-estimator sk-toggleable\"><input class=\"sk-toggleable__control sk-hidden--visually\" id=\"sk-estimator-id-14\" type=\"checkbox\" ><label for=\"sk-estimator-id-14\" class=\"sk-toggleable__label sk-toggleable__label-arrow\">LogisticRegression</label><div class=\"sk-toggleable__content\"><pre>LogisticRegression(max_iter=500)</pre></div></div></div></div></div></div></div>"
            ]
          },
          "metadata": {},
          "execution_count": 14
        }
      ]
    },
    {
      "cell_type": "code",
      "source": [
        "#Séparation des données\n",
        "from sklearn.model_selection import train_test_split\n",
        "\n",
        "data_train, data_test, target_train, target_test = train_test_split(\n",
        "    data, target, random_state=42\n",
        ")"
      ],
      "metadata": {
        "id": "UDDMikNAWHYa"
      },
      "execution_count": null,
      "outputs": []
    },
    {
      "cell_type": "code",
      "source": [
        "#Train the model:\n",
        "_ = model.fit(data_train, target_train)\n",
        "#\n",
        "data_test.head()\n",
        "#Prédiction sur les 5 premiers échantillons de l'ensemble test\n",
        "model.predict(data_test)[:5]\n",
        "target_test[:5]\n",
        "model.score(data_test, target_test)"
      ],
      "metadata": {
        "colab": {
          "base_uri": "https://localhost:8080/"
        },
        "id": "Mwwm4HzcWSIG",
        "outputId": "97ed7b07-4a8e-4b5c-dfef-781405577f52"
      },
      "execution_count": null,
      "outputs": [
        {
          "output_type": "execute_result",
          "data": {
            "text/plain": [
              "0.8586520350503645"
            ]
          },
          "metadata": {},
          "execution_count": 16
        }
      ]
    },
    {
      "cell_type": "markdown",
      "source": [
        "Evaluation du modèle avec Cross Validation"
      ],
      "metadata": {
        "id": "C4cwMe9UXC05"
      }
    },
    {
      "cell_type": "code",
      "source": [
        "from sklearn.model_selection import cross_validate\n",
        "\n",
        "cv_results = cross_validate(model, data, target, cv=5)\n",
        "cv_results\n",
        "scores = cv_results[\"test_score\"]\n",
        "print(\n",
        "    \"The mean cross-validation accuracy is: \"\n",
        "    f\"{scores.mean():.3f} ± {scores.std():.3f}\"\n",
        ")"
      ],
      "metadata": {
        "colab": {
          "base_uri": "https://localhost:8080/"
        },
        "id": "sOOqTuIFXHh4",
        "outputId": "101b9b51-b5f2-4dbb-a700-9753d5d94552"
      },
      "execution_count": null,
      "outputs": [
        {
          "output_type": "stream",
          "name": "stdout",
          "text": [
            "The mean cross-validation accuracy is: 0.852 ± 0.003\n"
          ]
        }
      ]
    },
    {
      "cell_type": "markdown",
      "source": [
        "Installer un modèle plus puissant\n",
        "Les modèles linéaires sont intéressants car ils sont généralement peu coûteux à former, petits à déployer, rapides à prédire et donnent une bonne base de référence.\n",
        "\n",
        "Cependant, il est souvent utile de vérifier si des modèles plus complexes, tels qu’un ensemble d’arbres de décision, peuvent conduire à de meilleures performances prédictives. Dans cette section, nous utilisons un tel modèle appelé **arbres d'amplification de gradient** et évaluons ses performances de généralisation. Plus précisément, le modèle scikit-learn que nous utilisons s'appelle **HistGradientBoostingClassifier**.\n",
        "\n",
        "Pour les modèles arborescents, la gestion des variables numériques et catégorielles est plus simple que pour les modèles linéaires :\n",
        "\n",
        "nous n'avons pas besoin de mettre à l'échelle les caractéristiques numériques\n",
        "utiliser un codage ordinal pour les variables catégorielles convient même si le codage aboutit à un ordre arbitraire\n",
        "Par conséquent, pour HistGradientBoostingClassifier, le pipeline de prétraitement est légèrement plus simple que celui que nous avons vu précédemment pour LogisticRegression :"
      ],
      "metadata": {
        "id": "EE78y5_EXlow"
      }
    },
    {
      "cell_type": "code",
      "source": [
        "from sklearn.ensemble import HistGradientBoostingClassifier\n",
        "from sklearn.preprocessing import OrdinalEncoder\n",
        "\n",
        "categorical_preprocessor = OrdinalEncoder(\n",
        "    handle_unknown=\"use_encoded_value\", unknown_value=-1\n",
        ")\n",
        "\n",
        "preprocessor = ColumnTransformer(\n",
        "    [(\"categorical\", categorical_preprocessor, categorical_columns)],\n",
        "    remainder=\"passthrough\",\n",
        ")\n",
        "\n",
        "model = make_pipeline(preprocessor, HistGradientBoostingClassifier())\n",
        "\n",
        "#Performance de généralisation\n",
        "#%%time\n",
        "_ = model.fit(data_train, target_train)\n",
        "model.score(data_test, target_test)"
      ],
      "metadata": {
        "colab": {
          "base_uri": "https://localhost:8080/"
        },
        "id": "RkFrvzCwX1oG",
        "outputId": "a300efbe-4c55-43f4-b15d-2e1090768348"
      },
      "execution_count": null,
      "outputs": [
        {
          "output_type": "execute_result",
          "data": {
            "text/plain": [
              "0.8791253787568586"
            ]
          },
          "metadata": {},
          "execution_count": 19
        }
      ]
    },
    {
      "cell_type": "markdown",
      "source": [
        "Nous pouvons observer que nous obtenons des précisions nettement supérieures avec le modèle Gradient Boosting. C'est souvent ce que nous observons chaque fois que l'ensemble de données comporte un grand nombre d'échantillons et un nombre limité de caractéristiques informatives (par exemple moins de 1 000) avec un mélange de variables numériques et catégorielles.\n",
        "\n",
        "Cela explique pourquoi les machines à gradient boosté sont très populaires parmi les praticiens de la science des données qui travaillent avec des données tabulaires."
      ],
      "metadata": {
        "id": "sLZC4cIlYXGh"
      }
    }
  ]
}